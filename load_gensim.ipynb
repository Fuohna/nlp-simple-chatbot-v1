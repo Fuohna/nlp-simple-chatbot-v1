{
 "cells": [
  {
   "cell_type": "code",
   "execution_count": 2,
   "metadata": {},
   "outputs": [
    {
     "name": "stderr",
     "output_type": "stream",
     "text": [
      "[nltk_data] Downloading package omw-1.4 to\n",
      "[nltk_data]     C:\\Users\\intern\\AppData\\Roaming\\nltk_data...\n",
      "[nltk_data]   Package omw-1.4 is already up-to-date!\n"
     ]
    },
    {
     "name": "stdout",
     "output_type": "stream",
     "text": [
      "showing info https://raw.githubusercontent.com/nltk/nltk_data/gh-pages/index.xml\n"
     ]
    }
   ],
   "source": [
    "import gensim\n",
    "import pandas as pd\n",
    "import string\n",
    "import nltk\n",
    "nltk.download('omw-1.4')\n",
    "nltk.download()\n",
    "from nltk.stem import WordNetLemmatizer\n",
    "from nltk.tokenize import word_tokenize, sent_tokenize"
   ]
  },
  {
   "cell_type": "code",
   "execution_count": 3,
   "metadata": {},
   "outputs": [
    {
     "data": {
      "text/plain": [
       "0                         switch the air conditioning off\n",
       "1                                         turn the ac off\n",
       "2                                    switch on the aircon\n",
       "3                                      turn the aircon on\n",
       "4       change the minimum and maximum temperatures on...\n",
       "                              ...                        \n",
       "1527                   can you prove you have a conscious\n",
       "1528               can you prove you are selfaware please\n",
       "1529              can you prove you are self aware please\n",
       "1530            can you prove you have a conscious please\n",
       "1531                           prove you have a conscious\n",
       "Name: utterance, Length: 1532, dtype: object"
      ]
     },
     "execution_count": 3,
     "metadata": {},
     "output_type": "execute_result"
    }
   ],
   "source": [
    "df = pd.read_csv(\"train_dataset.csv\")\n",
    "texts = df['utterance'].apply(lambda sequence: [ltrs.lower() for ltrs in sequence if ltrs not in string.punctuation])\n",
    "texts = texts.apply(lambda word: ''.join(word))\n",
    "texts"
   ]
  },
  {
   "cell_type": "code",
   "execution_count": 44,
   "metadata": {},
   "outputs": [
    {
     "name": "stdout",
     "output_type": "stream",
     "text": [
      "be\n"
     ]
    }
   ],
   "source": [
    "lemmatizer = WordNetLemmatizer()\n",
    "print(lemmatizer.lemmatize('were', pos = 'v'))"
   ]
  },
  {
   "cell_type": "code",
   "execution_count": 18,
   "metadata": {},
   "outputs": [],
   "source": [
    "from gensim.models import Word2Vec\n",
    "\n",
    "model = gensim.models.KeyedVectors.load_word2vec_format(\"models/english.word2vec.bin\", binary=True)"
   ]
  },
  {
   "cell_type": "code",
   "execution_count": 40,
   "metadata": {},
   "outputs": [
    {
     "name": "stdout",
     "output_type": "stream",
     "text": [
      "[('is', 'VERB')]\n"
     ]
    }
   ],
   "source": [
    "from nltk import pos_tag\n",
    "print(pos_tag([\"is\"], tagset='universal'))"
   ]
  },
  {
   "cell_type": "code",
   "execution_count": 38,
   "metadata": {},
   "outputs": [
    {
     "data": {
      "text/plain": [
       "array([ 2.60009766e-02, -1.89208984e-03,  1.85546875e-01, -5.17578125e-02,\n",
       "        5.12695312e-03, -1.09863281e-01, -8.17871094e-03, -8.83789062e-02,\n",
       "        9.66796875e-02,  4.83398438e-02,  1.10473633e-02, -3.63281250e-01,\n",
       "        8.20312500e-02, -2.12402344e-02,  1.58203125e-01,  4.41894531e-02,\n",
       "       -1.17797852e-02,  2.12890625e-01, -5.73730469e-02,  5.66406250e-02,\n",
       "       -1.07421875e-01,  1.85546875e-01,  7.71484375e-02,  1.44958496e-04,\n",
       "        1.52343750e-01, -6.54296875e-02, -1.52343750e-01,  2.25585938e-01,\n",
       "        8.10546875e-02,  8.88671875e-02,  7.32421875e-02, -1.03515625e-01,\n",
       "       -6.68945312e-02,  1.76757812e-01,  2.12890625e-01,  1.40625000e-01,\n",
       "       -3.41796875e-02,  1.78222656e-02,  5.95703125e-02,  2.86102295e-04,\n",
       "        5.88378906e-02,  9.27734375e-03,  1.66992188e-01, -2.70080566e-03,\n",
       "        1.15722656e-01,  1.04492188e-01,  5.37109375e-02,  1.85546875e-02,\n",
       "        1.06445312e-01,  5.05371094e-02, -1.64794922e-02, -1.27929688e-01,\n",
       "        2.16796875e-01,  5.15136719e-02,  4.78515625e-02,  1.52343750e-01,\n",
       "        1.71875000e-01,  7.86132812e-02, -5.88378906e-02, -4.29687500e-02,\n",
       "       -7.27539062e-02,  1.81640625e-01, -8.05664062e-02, -1.54296875e-01,\n",
       "       -1.16699219e-01,  8.44726562e-02, -6.17675781e-02, -4.51660156e-02,\n",
       "        9.21630859e-03,  1.33789062e-01,  1.92871094e-02,  6.44531250e-02,\n",
       "        1.08886719e-01,  1.58203125e-01, -2.35595703e-02,  1.23535156e-01,\n",
       "        1.69921875e-01,  3.49121094e-02,  1.29882812e-01,  2.65625000e-01,\n",
       "        1.93359375e-01, -8.83789062e-02,  8.49609375e-02, -2.96630859e-02,\n",
       "        5.76171875e-02,  2.51464844e-02, -1.01562500e-01,  1.99218750e-01,\n",
       "        1.04492188e-01, -2.42919922e-02,  2.01416016e-02, -3.51562500e-02,\n",
       "        6.64062500e-02, -6.20117188e-02,  2.90527344e-02, -9.81445312e-02,\n",
       "       -1.81640625e-01,  2.14843750e-01, -5.76171875e-02, -4.51660156e-02,\n",
       "        4.49218750e-02, -1.95312500e-02, -2.08984375e-01,  1.19628906e-01,\n",
       "       -9.03320312e-02,  5.07812500e-02,  9.03320312e-03, -9.76562500e-02,\n",
       "       -7.86132812e-02, -1.36718750e-01, -1.13769531e-01, -5.64575195e-03,\n",
       "       -4.07714844e-02, -2.05993652e-03, -5.66406250e-02,  3.64685059e-03,\n",
       "        8.30078125e-02, -7.08007812e-02,  2.63671875e-01,  1.24511719e-01,\n",
       "       -1.61132812e-02,  9.13085938e-02, -2.39257812e-01, -1.04980469e-02,\n",
       "       -6.78710938e-02,  1.40625000e-01,  2.34375000e-01, -6.39648438e-02,\n",
       "        1.95312500e-01,  5.02929688e-02, -1.25000000e-01,  2.06298828e-02,\n",
       "       -1.19140625e-01, -1.17187500e-01, -9.01222229e-05,  3.68652344e-02,\n",
       "        1.46484375e-01,  2.47802734e-02, -1.49414062e-01,  3.03649902e-03,\n",
       "       -3.10058594e-02,  1.06933594e-01,  2.55859375e-01, -6.00585938e-02,\n",
       "       -2.07031250e-01,  1.58203125e-01, -2.15820312e-01, -1.84570312e-01,\n",
       "       -1.72851562e-01,  7.99560547e-03, -3.03955078e-02,  9.81445312e-02,\n",
       "        4.66918945e-03,  2.57812500e-01,  1.06933594e-01,  1.26953125e-01,\n",
       "        6.34765625e-02, -1.30859375e-01,  6.54296875e-02, -9.91210938e-02,\n",
       "        5.90820312e-02, -3.71093750e-02,  1.01074219e-01,  1.53320312e-01,\n",
       "       -1.53320312e-01, -7.56835938e-02,  5.85937500e-02, -5.05371094e-02,\n",
       "        2.08007812e-01,  4.85839844e-02, -9.42382812e-02, -9.71679688e-02,\n",
       "       -1.23046875e-01, -1.97265625e-01, -1.76757812e-01, -1.11328125e-01,\n",
       "        1.11328125e-01, -5.88378906e-02,  2.27539062e-01,  4.00390625e-02,\n",
       "        1.24511719e-01,  1.47460938e-01,  1.81884766e-02,  4.05273438e-02,\n",
       "        1.69921875e-01,  1.13769531e-01, -2.24609375e-02,  6.73828125e-02,\n",
       "        8.59375000e-02,  6.73828125e-02,  2.06298828e-02,  4.78515625e-02,\n",
       "        1.84326172e-02,  2.05078125e-01, -4.68750000e-02,  2.00195312e-01,\n",
       "       -1.56250000e-02, -1.40625000e-01,  1.09863281e-02, -1.73828125e-01,\n",
       "        4.85839844e-02, -1.58203125e-01, -1.04492188e-01,  3.63769531e-02,\n",
       "        3.01513672e-02,  1.27929688e-01, -1.14257812e-01,  1.41601562e-01,\n",
       "        2.34375000e-01, -8.98437500e-02, -1.02996826e-03, -1.50390625e-01,\n",
       "        1.79687500e-01,  1.35742188e-01, -2.08007812e-01, -1.27563477e-02,\n",
       "        1.75781250e-01, -1.39648438e-01, -2.03125000e-01, -3.00292969e-02,\n",
       "       -2.78320312e-02, -6.50024414e-03,  1.26953125e-01, -1.49414062e-01,\n",
       "        1.46484375e-01, -8.42285156e-03,  1.12304688e-01,  1.66015625e-01,\n",
       "       -1.57470703e-02,  1.23046875e-01,  7.22656250e-02, -4.37011719e-02,\n",
       "       -7.56835938e-02, -9.03320312e-02,  1.01562500e-01, -1.44531250e-01,\n",
       "       -4.00390625e-02, -1.26953125e-02,  2.66113281e-02, -7.81250000e-02,\n",
       "        3.56445312e-02,  3.49121094e-02,  1.79687500e-01, -1.38671875e-01,\n",
       "        2.80761719e-02, -2.86865234e-02,  6.78710938e-02,  7.03125000e-02,\n",
       "        9.57031250e-02,  5.00488281e-02, -2.20947266e-02, -3.00781250e-01,\n",
       "        1.14257812e-01,  7.51953125e-02,  1.26342773e-02,  1.32812500e-01,\n",
       "        2.52685547e-02,  3.63769531e-02, -2.81982422e-02, -1.36718750e-01,\n",
       "        1.79687500e-01, -9.27734375e-02,  8.49609375e-02,  1.32812500e-01,\n",
       "        3.97949219e-02,  4.29687500e-01, -1.87988281e-02, -1.47460938e-01,\n",
       "        6.10351562e-02,  9.03320312e-02,  8.69140625e-02, -6.88476562e-02,\n",
       "        1.10839844e-01,  9.81445312e-02,  1.50390625e-01,  1.61132812e-01,\n",
       "       -8.05664062e-02, -1.74804688e-01, -3.32031250e-02, -1.28906250e-01,\n",
       "        1.22558594e-01, -1.44653320e-02, -1.63085938e-01, -3.58886719e-02,\n",
       "        2.78320312e-02, -6.34765625e-02, -7.91015625e-02, -1.14746094e-01,\n",
       "        1.84326172e-02,  2.91748047e-02, -3.00781250e-01, -4.58984375e-02,\n",
       "       -1.74804688e-01,  2.33398438e-01,  2.25830078e-02,  1.10351562e-01,\n",
       "       -1.03515625e-01, -1.21582031e-01,  2.21679688e-01, -2.19726562e-02],\n",
       "      dtype=float32)"
      ]
     },
     "execution_count": 38,
     "metadata": {},
     "output_type": "execute_result"
    }
   ],
   "source": [
    "model[\"was\"]"
   ]
  },
  {
   "cell_type": "code",
   "execution_count": 22,
   "metadata": {},
   "outputs": [],
   "source": [
    "# lemmatize_tag: n, v, a, r, s = Noun, verb, adjective, adverb, satellite adjective\n",
    "# convert tag from /pos_tag/ to lemmetize_tag\n",
    "def tagger(tag):\n",
    "    if tag == 'ADJ':\n",
    "        return 'a'\n",
    "    elif tag == 'ADP':\n",
    "        return 'r'\n",
    "    elif tag == 'ADV':\n",
    "        return 'r'\n",
    "    elif tag == 'CONJ':\n",
    "        return 'r'\n",
    "    elif tag == 'DET':\n",
    "        return 'n'\n",
    "    elif tag == 'NOUN':\n",
    "        return 'n'\n",
    "    elif tag == 'NUM':\n",
    "        return 'n'\n",
    "    elif tag == 'PRT':\n",
    "        return 'r'\n",
    "    elif tag == 'PRON':\n",
    "        return 'a'\n",
    "    elif tag == 'VERB':\n",
    "        return 'v'\n",
    "    else: \n",
    "        return 'n/a'"
   ]
  },
  {
   "cell_type": "code",
   "execution_count": 24,
   "metadata": {},
   "outputs": [],
   "source": [
    "#lemmatizing words\n",
    "def word_lem(texts):\n",
    "    texts_lem_df = pd.DataFrame(columns=['utterance'])\n",
    "    for row in texts:\n",
    "        tokens = word_tokenize(row)\n",
    "        tokens = pos_tag(tokens, tagset='universal')\n",
    "\n",
    "        sen = []\n",
    "        for word in tokens:\n",
    "            word = list(word)\n",
    "            tag = tagger(word[1])\n",
    "            if (tag != 'n/a'):\n",
    "                word[0] = lemmatizer.lemmatize(word=word[0], pos=tag)\n",
    "                word[1] = tag\n",
    "            else:\n",
    "                word[0] = word[0]\n",
    "                word[1] = tag\n",
    "            sen.append(word)\n",
    "        df = pd.DataFrame([[sen]], columns=['utterance'])\n",
    "        texts_lem_df = pd.concat([texts_lem_df, df], ignore_index=True)\n",
    "\n",
    "    return texts_lem_df\n"
   ]
  },
  {
   "cell_type": "code",
   "execution_count": 25,
   "metadata": {},
   "outputs": [
    {
     "ename": "KeyError",
     "evalue": "\"Key 'ac' not present\"",
     "output_type": "error",
     "traceback": [
      "\u001b[1;31m---------------------------------------------------------------------------\u001b[0m",
      "\u001b[1;31mKeyError\u001b[0m                                  Traceback (most recent call last)",
      "\u001b[1;32m~\\AppData\\Local\\Temp\\ipykernel_7348\\1968498082.py\u001b[0m in \u001b[0;36m<module>\u001b[1;34m\u001b[0m\n\u001b[0;32m      5\u001b[0m         \u001b[0mtag\u001b[0m \u001b[1;33m=\u001b[0m \u001b[0mword\u001b[0m\u001b[1;33m[\u001b[0m\u001b[1;36m1\u001b[0m\u001b[1;33m]\u001b[0m\u001b[1;33m\u001b[0m\u001b[1;33m\u001b[0m\u001b[0m\n\u001b[0;32m      6\u001b[0m         \u001b[1;32mif\u001b[0m \u001b[1;33m(\u001b[0m\u001b[0mtag\u001b[0m \u001b[1;33m!=\u001b[0m \u001b[1;34m'n/a'\u001b[0m\u001b[1;33m)\u001b[0m\u001b[1;33m:\u001b[0m\u001b[1;33m\u001b[0m\u001b[1;33m\u001b[0m\u001b[0m\n\u001b[1;32m----> 7\u001b[1;33m             \u001b[0mmodel\u001b[0m\u001b[1;33m[\u001b[0m\u001b[0mword\u001b[0m\u001b[1;33m[\u001b[0m\u001b[1;36m0\u001b[0m\u001b[1;33m]\u001b[0m\u001b[1;33m]\u001b[0m\u001b[1;33m\u001b[0m\u001b[1;33m\u001b[0m\u001b[0m\n\u001b[0m",
      "\u001b[1;32mc:\\Users\\intern\\anaconda3\\lib\\site-packages\\gensim\\models\\keyedvectors.py\u001b[0m in \u001b[0;36m__getitem__\u001b[1;34m(self, key_or_keys)\u001b[0m\n\u001b[0;32m    393\u001b[0m         \"\"\"\n\u001b[0;32m    394\u001b[0m         \u001b[1;32mif\u001b[0m \u001b[0misinstance\u001b[0m\u001b[1;33m(\u001b[0m\u001b[0mkey_or_keys\u001b[0m\u001b[1;33m,\u001b[0m \u001b[0m_KEY_TYPES\u001b[0m\u001b[1;33m)\u001b[0m\u001b[1;33m:\u001b[0m\u001b[1;33m\u001b[0m\u001b[1;33m\u001b[0m\u001b[0m\n\u001b[1;32m--> 395\u001b[1;33m             \u001b[1;32mreturn\u001b[0m \u001b[0mself\u001b[0m\u001b[1;33m.\u001b[0m\u001b[0mget_vector\u001b[0m\u001b[1;33m(\u001b[0m\u001b[0mkey_or_keys\u001b[0m\u001b[1;33m)\u001b[0m\u001b[1;33m\u001b[0m\u001b[1;33m\u001b[0m\u001b[0m\n\u001b[0m\u001b[0;32m    396\u001b[0m \u001b[1;33m\u001b[0m\u001b[0m\n\u001b[0;32m    397\u001b[0m         \u001b[1;32mreturn\u001b[0m \u001b[0mvstack\u001b[0m\u001b[1;33m(\u001b[0m\u001b[1;33m[\u001b[0m\u001b[0mself\u001b[0m\u001b[1;33m.\u001b[0m\u001b[0mget_vector\u001b[0m\u001b[1;33m(\u001b[0m\u001b[0mkey\u001b[0m\u001b[1;33m)\u001b[0m \u001b[1;32mfor\u001b[0m \u001b[0mkey\u001b[0m \u001b[1;32min\u001b[0m \u001b[0mkey_or_keys\u001b[0m\u001b[1;33m]\u001b[0m\u001b[1;33m)\u001b[0m\u001b[1;33m\u001b[0m\u001b[1;33m\u001b[0m\u001b[0m\n",
      "\u001b[1;32mc:\\Users\\intern\\anaconda3\\lib\\site-packages\\gensim\\models\\keyedvectors.py\u001b[0m in \u001b[0;36mget_vector\u001b[1;34m(self, key, norm)\u001b[0m\n\u001b[0;32m    436\u001b[0m \u001b[1;33m\u001b[0m\u001b[0m\n\u001b[0;32m    437\u001b[0m         \"\"\"\n\u001b[1;32m--> 438\u001b[1;33m         \u001b[0mindex\u001b[0m \u001b[1;33m=\u001b[0m \u001b[0mself\u001b[0m\u001b[1;33m.\u001b[0m\u001b[0mget_index\u001b[0m\u001b[1;33m(\u001b[0m\u001b[0mkey\u001b[0m\u001b[1;33m)\u001b[0m\u001b[1;33m\u001b[0m\u001b[1;33m\u001b[0m\u001b[0m\n\u001b[0m\u001b[0;32m    439\u001b[0m         \u001b[1;32mif\u001b[0m \u001b[0mnorm\u001b[0m\u001b[1;33m:\u001b[0m\u001b[1;33m\u001b[0m\u001b[1;33m\u001b[0m\u001b[0m\n\u001b[0;32m    440\u001b[0m             \u001b[0mself\u001b[0m\u001b[1;33m.\u001b[0m\u001b[0mfill_norms\u001b[0m\u001b[1;33m(\u001b[0m\u001b[1;33m)\u001b[0m\u001b[1;33m\u001b[0m\u001b[1;33m\u001b[0m\u001b[0m\n",
      "\u001b[1;32mc:\\Users\\intern\\anaconda3\\lib\\site-packages\\gensim\\models\\keyedvectors.py\u001b[0m in \u001b[0;36mget_index\u001b[1;34m(self, key, default)\u001b[0m\n\u001b[0;32m    410\u001b[0m             \u001b[1;32mreturn\u001b[0m \u001b[0mdefault\u001b[0m\u001b[1;33m\u001b[0m\u001b[1;33m\u001b[0m\u001b[0m\n\u001b[0;32m    411\u001b[0m         \u001b[1;32melse\u001b[0m\u001b[1;33m:\u001b[0m\u001b[1;33m\u001b[0m\u001b[1;33m\u001b[0m\u001b[0m\n\u001b[1;32m--> 412\u001b[1;33m             \u001b[1;32mraise\u001b[0m \u001b[0mKeyError\u001b[0m\u001b[1;33m(\u001b[0m\u001b[1;34mf\"Key '{key}' not present\"\u001b[0m\u001b[1;33m)\u001b[0m\u001b[1;33m\u001b[0m\u001b[1;33m\u001b[0m\u001b[0m\n\u001b[0m\u001b[0;32m    413\u001b[0m \u001b[1;33m\u001b[0m\u001b[0m\n\u001b[0;32m    414\u001b[0m     \u001b[1;32mdef\u001b[0m \u001b[0mget_vector\u001b[0m\u001b[1;33m(\u001b[0m\u001b[0mself\u001b[0m\u001b[1;33m,\u001b[0m \u001b[0mkey\u001b[0m\u001b[1;33m,\u001b[0m \u001b[0mnorm\u001b[0m\u001b[1;33m=\u001b[0m\u001b[1;32mFalse\u001b[0m\u001b[1;33m)\u001b[0m\u001b[1;33m:\u001b[0m\u001b[1;33m\u001b[0m\u001b[1;33m\u001b[0m\u001b[0m\n",
      "\u001b[1;31mKeyError\u001b[0m: \"Key 'ac' not present\""
     ]
    }
   ],
   "source": [
    "#word_2_vector\n",
    "_df = word_lem(texts)['utterance']\n",
    "for row in _df:\n",
    "    for word in row:\n",
    "        tag = word[1]\n",
    "        if (tag != 'n/a'):\n",
    "            model[word[0]]"
   ]
  },
  {
   "cell_type": "code",
   "execution_count": 26,
   "metadata": {},
   "outputs": [
    {
     "name": "stdout",
     "output_type": "stream",
     "text": [
      "                 intent                                          utterance\n",
      "0               TurnOff  [[switch, v], [the, n], [air, n], [condition, ...\n",
      "1               TurnOff           [[turn, v], [the, n], [ac, n], [off, r]]\n",
      "2                TurnOn      [[switch, n], [on, r], [the, n], [aircon, n]]\n",
      "3                TurnOn        [[turn, v], [the, n], [aircon, n], [on, r]]\n",
      "4     ChangeTemperature  [[change, n], [the, n], [minimum, n], [and, r]...\n",
      "...                 ...                                                ...\n",
      "1527          SelfAware  [[can, v], [you, a], [prove, v], [you, a], [ha...\n",
      "1528          SelfAware  [[can, v], [you, a], [prove, v], [you, a], [be...\n",
      "1529          SelfAware  [[can, v], [you, a], [prove, v], [you, a], [be...\n",
      "1530          SelfAware  [[can, v], [you, a], [prove, v], [you, a], [ha...\n",
      "1531          SelfAware  [[prove, r], [you, a], [have, v], [a, n], [con...\n",
      "\n",
      "[1532 rows x 2 columns]\n"
     ]
    }
   ],
   "source": [
    "df['utterance'] = word_lem(texts)\n",
    "print(df)"
   ]
  },
  {
   "cell_type": "code",
   "execution_count": 33,
   "metadata": {},
   "outputs": [
    {
     "data": {
      "text/plain": [
       "False"
      ]
     },
     "execution_count": 33,
     "metadata": {},
     "output_type": "execute_result"
    }
   ],
   "source": [
    "from nltk.corpus import brown\n",
    "\"aircon\" in brown.words()"
   ]
  },
  {
   "cell_type": "code",
   "execution_count": 34,
   "metadata": {},
   "outputs": [
    {
     "data": {
      "text/plain": [
       "True"
      ]
     },
     "execution_count": 34,
     "metadata": {},
     "output_type": "execute_result"
    }
   ],
   "source": [
    "\"air\" in brown.words()"
   ]
  }
 ],
 "metadata": {
  "kernelspec": {
   "display_name": "base",
   "language": "python",
   "name": "python3"
  },
  "language_info": {
   "codemirror_mode": {
    "name": "ipython",
    "version": 3
   },
   "file_extension": ".py",
   "mimetype": "text/x-python",
   "name": "python",
   "nbconvert_exporter": "python",
   "pygments_lexer": "ipython3",
   "version": "3.9.13 (main, Aug 25 2022, 23:51:50) [MSC v.1916 64 bit (AMD64)]"
  },
  "orig_nbformat": 4,
  "vscode": {
   "interpreter": {
    "hash": "47837d2f986ae86ccf019af2378fadc740ffacac581985e112c0edda687ba04d"
   }
  }
 },
 "nbformat": 4,
 "nbformat_minor": 2
}
