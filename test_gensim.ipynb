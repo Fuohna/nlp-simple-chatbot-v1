{
 "cells": [
  {
   "cell_type": "code",
   "execution_count": 4,
   "id": "413ca3a0-68d2-4b1a-8832-96d3f201f88d",
   "metadata": {},
   "outputs": [
    {
     "name": "stdout",
     "output_type": "stream",
     "text": [
      "True\n",
      "Start loading at time Mon Dec 19 11:15:52 2022\n",
      "Finish loading at time Mon Dec 19 11:15:52 2022\n",
      "[('artifact', 0.5275387167930603), ('priceless', 0.5014714598655701), ('jewel', 0.49939411878585815)]\n",
      "Sim between uni vs school = [0.03235073]\n"
     ]
    }
   ],
   "source": [
    "import nltk\n",
    "#nltk.download('brown')\n",
    "from nltk.test.gensim_fixt import setup_module\n",
    "setup_module()\n",
    "\n",
    "import pathlib\n",
    "current_folder = pathlib.Path().resolve()\n",
    "model_file = pathlib.Path('models/english.word2vec.txt')\n",
    "print(model_file.is_file())\n",
    "\n",
    "\n",
    "# print(\"Model folder: \" + model_folder)\n",
    "\n",
    "\n",
    "import gensim\n",
    "import numpy as np\n",
    "\n",
    "import time\n",
    "\n",
    "from nltk.data import find\n",
    "\n",
    "print('Start loading at time ' + time.ctime())\n",
    "model = gensim.models.KeyedVectors.load_word2vec_format('models/english.word2vec.bin', binary=True)\n",
    "print('Finish loading at time ' + time.ctime())\n",
    "\n",
    "# print(model['university'])\n",
    "print(model.most_similar(positive=['treasure'], topn = 3))\n",
    "sim = model.cosine_similarities(model['cat'], np.array([model['college']]))\n",
    "print(\"Sim between uni vs school = \" + str(sim))"
   ]
  },
  {
   "cell_type": "code",
   "execution_count": 12,
   "id": "f2f52c6b-269e-456c-b26c-b7992b2373cc",
   "metadata": {},
   "outputs": [
    {
     "name": "stdout",
     "output_type": "stream",
     "text": [
      "Sim between dog and puppy = [0.6601579]\n"
     ]
    }
   ],
   "source": [
    "print(\"Sim between dog and puppy = \" + str(model.cosine_similarities(model['have'], np.array([model['had']]))))"
   ]
  },
  {
   "cell_type": "markdown",
   "id": "7b9e3f21-7702-4ff7-a985-f08a271e1af5",
   "metadata": {},
   "source": [
    "* MODEL"
   ]
  },
  {
   "cell_type": "code",
   "execution_count": 16,
   "id": "c0a28101-4724-4298-9461-fa0258a82d2a",
   "metadata": {},
   "outputs": [
    {
     "data": {
      "text/plain": [
       "0.6900369805853573"
      ]
     },
     "execution_count": 16,
     "metadata": {},
     "output_type": "execute_result"
    }
   ],
   "source": [
    "len(model)\n",
    "model.wmdistance(\"Hello micheal\", \"How are you\")"
   ]
  },
  {
   "cell_type": "code",
   "execution_count": null,
   "id": "dc7d8cce-7100-4745-a7bd-4d575145e882",
   "metadata": {},
   "outputs": [],
   "source": [
    "print(model.most_similar(positive=['article'], topn = 3))"
   ]
  },
  {
   "cell_type": "code",
   "execution_count": null,
   "id": "9cfd8dce-cf35-429a-a302-9bcc9700e77f",
   "metadata": {},
   "outputs": [],
   "source": [
    "from nltk.corpus import words\n",
    "nltk.download(\"words\")\n",
    "word_list = words.words()\n",
    "print(len(word_list))"
   ]
  },
  {
   "cell_type": "code",
   "execution_count": null,
   "id": "84d6bf2c-c366-4c18-a84c-a2e7c45af202",
   "metadata": {},
   "outputs": [],
   "source": [
    "print(model.most_similar(positive=['witch'], topn = 3))"
   ]
  },
  {
   "cell_type": "code",
   "execution_count": null,
   "id": "82eeddc8",
   "metadata": {},
   "outputs": [],
   "source": [
    "np.zeros((2,3))"
   ]
  },
  {
   "cell_type": "code",
   "execution_count": null,
   "id": "f3a3fdd0",
   "metadata": {},
   "outputs": [],
   "source": [
    "print(\"Hello\")"
   ]
  },
  {
   "cell_type": "code",
   "execution_count": null,
   "id": "cab92b59",
   "metadata": {},
   "outputs": [],
   "source": [
    "print(len(model.index_to_key))"
   ]
  },
  {
   "cell_type": "code",
   "execution_count": null,
   "id": "b4c69d35",
   "metadata": {},
   "outputs": [],
   "source": []
  }
 ],
 "metadata": {
  "kernelspec": {
   "display_name": "base",
   "language": "python",
   "name": "python3"
  },
  "language_info": {
   "codemirror_mode": {
    "name": "ipython",
    "version": 3
   },
   "file_extension": ".py",
   "mimetype": "text/x-python",
   "name": "python",
   "nbconvert_exporter": "python",
   "pygments_lexer": "ipython3",
   "version": "3.9.13 (main, Aug 25 2022, 23:51:50) [MSC v.1916 64 bit (AMD64)]"
  },
  "vscode": {
   "interpreter": {
    "hash": "42baff8518b50338084708a96b14cc873b9324e5a615746f6aa55d093668d6d7"
   }
  }
 },
 "nbformat": 4,
 "nbformat_minor": 5
}
