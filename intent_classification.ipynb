{
  "nbformat": 4,
  "nbformat_minor": 0,
  "metadata": {
    "colab": {
      "provenance": [],
      "mount_file_id": "1FxTZsKudSAKmYnoFhUhyL0KKeKkiSKWC",
      "authorship_tag": "ABX9TyNx0fpfj8enpHeRurfcLUP5",
      "include_colab_link": true
    },
    "kernelspec": {
      "name": "python3",
      "display_name": "Python 3"
    },
    "language_info": {
      "name": "python"
    }
  },
  "cells": [
    {
      "cell_type": "markdown",
      "metadata": {
        "id": "view-in-github",
        "colab_type": "text"
      },
      "source": [
        "<a href=\"https://colab.research.google.com/github/Fuohna/nlp-simple-chatbot-v1/blob/main/intent_classification.ipynb\" target=\"_parent\"><img src=\"https://colab.research.google.com/assets/colab-badge.svg\" alt=\"Open In Colab\"/></a>"
      ]
    },
    {
      "cell_type": "code",
      "source": [
        "!pip install -U tensorflow\n",
        "!pip install -U tensorflow-text"
      ],
      "metadata": {
        "id": "ZDuG700NuMpK"
      },
      "execution_count": null,
      "outputs": []
    },
    {
      "cell_type": "code",
      "source": [
        "import pandas as pd\n",
        "import json\n",
        "import string\n",
        "import tensorflow as tf\n",
        "import tensorflow_text as tf_text\n",
        "import keras\n",
        "import nltk\n",
        "nltk.download('punkt')"
      ],
      "metadata": {
        "colab": {
          "base_uri": "https://localhost:8080/"
        },
        "id": "E_m8xBPTs_gR",
        "outputId": "ef212954-b311-47f4-d9be-9e72564e64d8"
      },
      "execution_count": 17,
      "outputs": [
        {
          "output_type": "stream",
          "name": "stderr",
          "text": [
            "[nltk_data] Downloading package punkt to /root/nltk_data...\n",
            "[nltk_data]   Package punkt is already up-to-date!\n"
          ]
        },
        {
          "output_type": "execute_result",
          "data": {
            "text/plain": [
              "True"
            ]
          },
          "metadata": {},
          "execution_count": 17
        }
      ]
    },
    {
      "cell_type": "markdown",
      "source": [
        "## Preprocessing"
      ],
      "metadata": {
        "id": "u56hM4WTrP5B"
      }
    },
    {
      "cell_type": "code",
      "execution_count": 18,
      "metadata": {
        "colab": {
          "base_uri": "https://localhost:8080/",
          "height": 424
        },
        "id": "iDHYJRxAq-HD",
        "outputId": "9a023cf0-129b-4013-89d7-1e3d09a71507"
      },
      "outputs": [
        {
          "output_type": "execute_result",
          "data": {
            "text/plain": [
              "              domain                  intent  \\\n",
              "0     Airconditioner                 TurnOff   \n",
              "1     Airconditioner                 TurnOff   \n",
              "2     Airconditioner                  TurnOn   \n",
              "3     Airconditioner                  TurnOn   \n",
              "4     Airconditioner       ChangeTemperature   \n",
              "...              ...                     ...   \n",
              "1384         Youtube           ShowFollowing   \n",
              "1385         Youtube           ShowFollowing   \n",
              "1386         Youtube           ShowFollowing   \n",
              "1387         Youtube  ShowSubscribedChannels   \n",
              "1388         Youtube  ShowSubscribedChannels   \n",
              "\n",
              "                                              utterance  \\\n",
              "0                       switch the air conditioning off   \n",
              "1                                       turn the ac off   \n",
              "2                                  switch on the aircon   \n",
              "3                                    turn the aircon on   \n",
              "4     change the minimum and maximum temperatures on...   \n",
              "...                                                 ...   \n",
              "1384               show me channels I follow on youtube   \n",
              "1385                  show me youtube channels i follow   \n",
              "1386                     show youtube channels i follow   \n",
              "1387        show channels I am subscribed to on youtube   \n",
              "1388     show me channels I am subscribed to on youtube   \n",
              "\n",
              "                              bio  \n",
              "0     o o b-av_alias i-av_alias o  \n",
              "1                o o b-av_alias o  \n",
              "2                o o o b-av_alias  \n",
              "3                o o b-av_alias o  \n",
              "4               o o o o o o o o o  \n",
              "...                           ...  \n",
              "1384                o o o o o o o  \n",
              "1385                  o o o o o o  \n",
              "1386                    o o o o o  \n",
              "1387              o o o o o o o o  \n",
              "1388            o o o o o o o o o  \n",
              "\n",
              "[1389 rows x 4 columns]"
            ],
            "text/html": [
              "\n",
              "  <div id=\"df-5e76c805-9750-4422-ab85-894edd8506ea\">\n",
              "    <div class=\"colab-df-container\">\n",
              "      <div>\n",
              "<style scoped>\n",
              "    .dataframe tbody tr th:only-of-type {\n",
              "        vertical-align: middle;\n",
              "    }\n",
              "\n",
              "    .dataframe tbody tr th {\n",
              "        vertical-align: top;\n",
              "    }\n",
              "\n",
              "    .dataframe thead th {\n",
              "        text-align: right;\n",
              "    }\n",
              "</style>\n",
              "<table border=\"1\" class=\"dataframe\">\n",
              "  <thead>\n",
              "    <tr style=\"text-align: right;\">\n",
              "      <th></th>\n",
              "      <th>domain</th>\n",
              "      <th>intent</th>\n",
              "      <th>utterance</th>\n",
              "      <th>bio</th>\n",
              "    </tr>\n",
              "  </thead>\n",
              "  <tbody>\n",
              "    <tr>\n",
              "      <th>0</th>\n",
              "      <td>Airconditioner</td>\n",
              "      <td>TurnOff</td>\n",
              "      <td>switch the air conditioning off</td>\n",
              "      <td>o o b-av_alias i-av_alias o</td>\n",
              "    </tr>\n",
              "    <tr>\n",
              "      <th>1</th>\n",
              "      <td>Airconditioner</td>\n",
              "      <td>TurnOff</td>\n",
              "      <td>turn the ac off</td>\n",
              "      <td>o o b-av_alias o</td>\n",
              "    </tr>\n",
              "    <tr>\n",
              "      <th>2</th>\n",
              "      <td>Airconditioner</td>\n",
              "      <td>TurnOn</td>\n",
              "      <td>switch on the aircon</td>\n",
              "      <td>o o o b-av_alias</td>\n",
              "    </tr>\n",
              "    <tr>\n",
              "      <th>3</th>\n",
              "      <td>Airconditioner</td>\n",
              "      <td>TurnOn</td>\n",
              "      <td>turn the aircon on</td>\n",
              "      <td>o o b-av_alias o</td>\n",
              "    </tr>\n",
              "    <tr>\n",
              "      <th>4</th>\n",
              "      <td>Airconditioner</td>\n",
              "      <td>ChangeTemperature</td>\n",
              "      <td>change the minimum and maximum temperatures on...</td>\n",
              "      <td>o o o o o o o o o</td>\n",
              "    </tr>\n",
              "    <tr>\n",
              "      <th>...</th>\n",
              "      <td>...</td>\n",
              "      <td>...</td>\n",
              "      <td>...</td>\n",
              "      <td>...</td>\n",
              "    </tr>\n",
              "    <tr>\n",
              "      <th>1384</th>\n",
              "      <td>Youtube</td>\n",
              "      <td>ShowFollowing</td>\n",
              "      <td>show me channels I follow on youtube</td>\n",
              "      <td>o o o o o o o</td>\n",
              "    </tr>\n",
              "    <tr>\n",
              "      <th>1385</th>\n",
              "      <td>Youtube</td>\n",
              "      <td>ShowFollowing</td>\n",
              "      <td>show me youtube channels i follow</td>\n",
              "      <td>o o o o o o</td>\n",
              "    </tr>\n",
              "    <tr>\n",
              "      <th>1386</th>\n",
              "      <td>Youtube</td>\n",
              "      <td>ShowFollowing</td>\n",
              "      <td>show youtube channels i follow</td>\n",
              "      <td>o o o o o</td>\n",
              "    </tr>\n",
              "    <tr>\n",
              "      <th>1387</th>\n",
              "      <td>Youtube</td>\n",
              "      <td>ShowSubscribedChannels</td>\n",
              "      <td>show channels I am subscribed to on youtube</td>\n",
              "      <td>o o o o o o o o</td>\n",
              "    </tr>\n",
              "    <tr>\n",
              "      <th>1388</th>\n",
              "      <td>Youtube</td>\n",
              "      <td>ShowSubscribedChannels</td>\n",
              "      <td>show me channels I am subscribed to on youtube</td>\n",
              "      <td>o o o o o o o o o</td>\n",
              "    </tr>\n",
              "  </tbody>\n",
              "</table>\n",
              "<p>1389 rows × 4 columns</p>\n",
              "</div>\n",
              "      <button class=\"colab-df-convert\" onclick=\"convertToInteractive('df-5e76c805-9750-4422-ab85-894edd8506ea')\"\n",
              "              title=\"Convert this dataframe to an interactive table.\"\n",
              "              style=\"display:none;\">\n",
              "        \n",
              "  <svg xmlns=\"http://www.w3.org/2000/svg\" height=\"24px\"viewBox=\"0 0 24 24\"\n",
              "       width=\"24px\">\n",
              "    <path d=\"M0 0h24v24H0V0z\" fill=\"none\"/>\n",
              "    <path d=\"M18.56 5.44l.94 2.06.94-2.06 2.06-.94-2.06-.94-.94-2.06-.94 2.06-2.06.94zm-11 1L8.5 8.5l.94-2.06 2.06-.94-2.06-.94L8.5 2.5l-.94 2.06-2.06.94zm10 10l.94 2.06.94-2.06 2.06-.94-2.06-.94-.94-2.06-.94 2.06-2.06.94z\"/><path d=\"M17.41 7.96l-1.37-1.37c-.4-.4-.92-.59-1.43-.59-.52 0-1.04.2-1.43.59L10.3 9.45l-7.72 7.72c-.78.78-.78 2.05 0 2.83L4 21.41c.39.39.9.59 1.41.59.51 0 1.02-.2 1.41-.59l7.78-7.78 2.81-2.81c.8-.78.8-2.07 0-2.86zM5.41 20L4 18.59l7.72-7.72 1.47 1.35L5.41 20z\"/>\n",
              "  </svg>\n",
              "      </button>\n",
              "      \n",
              "  <style>\n",
              "    .colab-df-container {\n",
              "      display:flex;\n",
              "      flex-wrap:wrap;\n",
              "      gap: 12px;\n",
              "    }\n",
              "\n",
              "    .colab-df-convert {\n",
              "      background-color: #E8F0FE;\n",
              "      border: none;\n",
              "      border-radius: 50%;\n",
              "      cursor: pointer;\n",
              "      display: none;\n",
              "      fill: #1967D2;\n",
              "      height: 32px;\n",
              "      padding: 0 0 0 0;\n",
              "      width: 32px;\n",
              "    }\n",
              "\n",
              "    .colab-df-convert:hover {\n",
              "      background-color: #E2EBFA;\n",
              "      box-shadow: 0px 1px 2px rgba(60, 64, 67, 0.3), 0px 1px 3px 1px rgba(60, 64, 67, 0.15);\n",
              "      fill: #174EA6;\n",
              "    }\n",
              "\n",
              "    [theme=dark] .colab-df-convert {\n",
              "      background-color: #3B4455;\n",
              "      fill: #D2E3FC;\n",
              "    }\n",
              "\n",
              "    [theme=dark] .colab-df-convert:hover {\n",
              "      background-color: #434B5C;\n",
              "      box-shadow: 0px 1px 3px 1px rgba(0, 0, 0, 0.15);\n",
              "      filter: drop-shadow(0px 1px 2px rgba(0, 0, 0, 0.3));\n",
              "      fill: #FFFFFF;\n",
              "    }\n",
              "  </style>\n",
              "\n",
              "      <script>\n",
              "        const buttonEl =\n",
              "          document.querySelector('#df-5e76c805-9750-4422-ab85-894edd8506ea button.colab-df-convert');\n",
              "        buttonEl.style.display =\n",
              "          google.colab.kernel.accessAllowed ? 'block' : 'none';\n",
              "\n",
              "        async function convertToInteractive(key) {\n",
              "          const element = document.querySelector('#df-5e76c805-9750-4422-ab85-894edd8506ea');\n",
              "          const dataTable =\n",
              "            await google.colab.kernel.invokeFunction('convertToInteractive',\n",
              "                                                     [key], {});\n",
              "          if (!dataTable) return;\n",
              "\n",
              "          const docLinkHtml = 'Like what you see? Visit the ' +\n",
              "            '<a target=\"_blank\" href=https://colab.research.google.com/notebooks/data_table.ipynb>data table notebook</a>'\n",
              "            + ' to learn more about interactive tables.';\n",
              "          element.innerHTML = '';\n",
              "          dataTable['output_type'] = 'display_data';\n",
              "          await google.colab.output.renderOutput(dataTable, element);\n",
              "          const docLink = document.createElement('div');\n",
              "          docLink.innerHTML = docLinkHtml;\n",
              "          element.appendChild(docLink);\n",
              "        }\n",
              "      </script>\n",
              "    </div>\n",
              "  </div>\n",
              "  "
            ]
          },
          "metadata": {},
          "execution_count": 18
        }
      ],
      "source": [
        "train_data = \"/content/drive/MyDrive/Colab Notebooks/NLP-Chatbot/train_dataset.csv\"\n",
        "train_df = pd.read_csv(train_data)\n",
        "train_df"
      ]
    },
    {
      "cell_type": "code",
      "source": [
        "texts = train_df['utterance'].apply(lambda sequence: [ltrs.lower() for ltrs in sequence if ltrs not in string.punctuation])\n",
        "texts = texts.apply(lambda word: ''.join(word))"
      ],
      "metadata": {
        "id": "yiZkrr-PtWYZ"
      },
      "execution_count": 19,
      "outputs": []
    },
    {
      "cell_type": "code",
      "source": [
        "from tensorflow.keras.preprocessing.text import Tokenizer\n",
        "from nltk.tokenize import word_tokenize \n",
        "from tensorflow.keras.preprocessing.sequence import pad_sequences"
      ],
      "metadata": {
        "id": "SmNwm_iN0riZ"
      },
      "execution_count": 20,
      "outputs": []
    },
    {
      "cell_type": "code",
      "source": [
        "word_list = texts.apply(lambda sen: word_tokenize(sen))\n",
        "print(word_list)"
      ],
      "metadata": {
        "colab": {
          "base_uri": "https://localhost:8080/"
        },
        "id": "-IlHSMu2_0XV",
        "outputId": "bcf04eba-8878-4208-dad6-c3a1d3a1c8a4"
      },
      "execution_count": 21,
      "outputs": [
        {
          "output_type": "stream",
          "name": "stdout",
          "text": [
            "0                   [switch, the, air, conditioning, off]\n",
            "1                                    [turn, the, ac, off]\n",
            "2                               [switch, on, the, aircon]\n",
            "3                                 [turn, the, aircon, on]\n",
            "4       [change, the, minimum, and, maximum, temperatu...\n",
            "                              ...                        \n",
            "1384         [show, me, channels, i, follow, on, youtube]\n",
            "1385             [show, me, youtube, channels, i, follow]\n",
            "1386                 [show, youtube, channels, i, follow]\n",
            "1387    [show, channels, i, am, subscribed, to, on, yo...\n",
            "1388    [show, me, channels, i, am, subscribed, to, on...\n",
            "Name: utterance, Length: 1389, dtype: object\n"
          ]
        }
      ]
    },
    {
      "cell_type": "code",
      "source": [
        "vocab_size = 20000\n",
        "def tokenizer(words):\n",
        "  token = Tokenizer(num_words = vocab_size)\n",
        "  token.fit_on_texts(words)\n",
        "  return token"
      ],
      "metadata": {
        "id": "TuiZndXk8cvS"
      },
      "execution_count": 22,
      "outputs": []
    },
    {
      "cell_type": "code",
      "source": [
        "def max_length(words):\n",
        "  return(len(max(words, key = len)))"
      ],
      "metadata": {
        "id": "Gk5DZqSLC6hF"
      },
      "execution_count": 23,
      "outputs": []
    },
    {
      "cell_type": "code",
      "source": [
        "token = tokenizer(word_list)\n",
        "seqs = token.texts_to_sequences(word_list)\n",
        "utterance_2_seq = pad_sequences(seqs, maxlen= max_length(word_list)) \n",
        "print(utterance_2_seq.shape)\n",
        "print(utterance_2_seq) "
      ],
      "metadata": {
        "colab": {
          "base_uri": "https://localhost:8080/"
        },
        "id": "k2RHmC_Mz0yH",
        "outputId": "9496651c-34a8-4c3e-d5de-374e25b33e22"
      },
      "execution_count": 24,
      "outputs": [
        {
          "output_type": "stream",
          "name": "stdout",
          "text": [
            "(1389, 24)\n",
            "[[  0   0   0 ... 325 326 126]\n",
            " [  0   0   0 ...   3 327 126]\n",
            " [  0   0   0 ...   2   3 273]\n",
            " ...\n",
            " [  0   0   0 ...  65  14 192]\n",
            " [  0   0   0 ...   4   2  19]\n",
            " [  0   0   0 ...   4   2  19]]\n"
          ]
        }
      ]
    },
    {
      "cell_type": "code",
      "source": [
        "from sklearn.preprocessing import MinMaxScaler\n",
        "\n",
        "scaler = MinMaxScaler().fit(utterance_2_seq)\n",
        "utt_features = list(scaler.fit_transform(utterance_2_seq))\n",
        "print(type(utt_features))"
      ],
      "metadata": {
        "colab": {
          "base_uri": "https://localhost:8080/"
        },
        "id": "M2HWKRrrDbfD",
        "outputId": "f72fa3f6-fb86-41af-b461-11b2b44aa8bd"
      },
      "execution_count": 25,
      "outputs": [
        {
          "output_type": "stream",
          "name": "stdout",
          "text": [
            "<class 'list'>\n"
          ]
        }
      ]
    },
    {
      "cell_type": "code",
      "source": [
        "train_df['utterance'] = utt_features\n",
        "train_df['utterance']"
      ],
      "metadata": {
        "colab": {
          "base_uri": "https://localhost:8080/"
        },
        "id": "MNDfbDVUENLa",
        "outputId": "e7177be6-b55b-4df4-bc7d-13dfbc6d6c8c"
      },
      "execution_count": 26,
      "outputs": [
        {
          "output_type": "execute_result",
          "data": {
            "text/plain": [
              "0       [0.0, 0.0, 0.0, 0.0, 0.0, 0.0, 0.0, 0.0, 0.0, ...\n",
              "1       [0.0, 0.0, 0.0, 0.0, 0.0, 0.0, 0.0, 0.0, 0.0, ...\n",
              "2       [0.0, 0.0, 0.0, 0.0, 0.0, 0.0, 0.0, 0.0, 0.0, ...\n",
              "3       [0.0, 0.0, 0.0, 0.0, 0.0, 0.0, 0.0, 0.0, 0.0, ...\n",
              "4       [0.0, 0.0, 0.0, 0.0, 0.0, 0.0, 0.0, 0.0, 0.0, ...\n",
              "                              ...                        \n",
              "1384    [0.0, 0.0, 0.0, 0.0, 0.0, 0.0, 0.0, 0.0, 0.0, ...\n",
              "1385    [0.0, 0.0, 0.0, 0.0, 0.0, 0.0, 0.0, 0.0, 0.0, ...\n",
              "1386    [0.0, 0.0, 0.0, 0.0, 0.0, 0.0, 0.0, 0.0, 0.0, ...\n",
              "1387    [0.0, 0.0, 0.0, 0.0, 0.0, 0.0, 0.0, 0.0, 0.0, ...\n",
              "1388    [0.0, 0.0, 0.0, 0.0, 0.0, 0.0, 0.0, 0.0, 0.0, ...\n",
              "Name: utterance, Length: 1389, dtype: object"
            ]
          },
          "metadata": {},
          "execution_count": 26
        }
      ]
    },
    {
      "cell_type": "code",
      "source": [
        "from sklearn.preprocessing import LabelEncoder\n",
        "\n",
        "intent_list = list(train_df['intent'])\n",
        "label = LabelEncoder().fit_transform(intent_list)\n",
        "train_df['intent'] = label\n",
        "train_df['intent']"
      ],
      "metadata": {
        "colab": {
          "base_uri": "https://localhost:8080/"
        },
        "id": "pikkA3XjFyup",
        "outputId": "c00b7082-8361-42b1-e6bd-aefbd3a250a1"
      },
      "execution_count": 27,
      "outputs": [
        {
          "output_type": "execute_result",
          "data": {
            "text/plain": [
              "0       173\n",
              "1       173\n",
              "2       174\n",
              "3       174\n",
              "4        10\n",
              "       ... \n",
              "1384    145\n",
              "1385    145\n",
              "1386    145\n",
              "1387    158\n",
              "1388    158\n",
              "Name: intent, Length: 1389, dtype: int64"
            ]
          },
          "metadata": {},
          "execution_count": 27
        }
      ]
    },
    {
      "cell_type": "code",
      "source": [
        "train_df.drop([\"domain\", \"bio\"], axis = 1, inplace = True)\n",
        "# print(train_df)"
      ],
      "metadata": {
        "id": "bWynbyBvGreT"
      },
      "execution_count": null,
      "outputs": []
    },
    {
      "cell_type": "code",
      "source": [
        "sorted_df = train_df.sort_values(by= \"intent\", ignore_index= \"True\")\n",
        "sorted_df"
      ],
      "metadata": {
        "colab": {
          "base_uri": "https://localhost:8080/",
          "height": 704
        },
        "id": "mm_vB22Fh5A0",
        "outputId": "d9188bf2-d04d-4f5e-f28b-a3f2ed528bfc"
      },
      "execution_count": 60,
      "outputs": [
        {
          "output_type": "execute_result",
          "data": {
            "text/plain": [
              "      intent                                          utterance\n",
              "0          0  [0.0, 0.0, 0.0, 0.0, 0.0, 0.0, 0.0, 0.0, 0.0, ...\n",
              "1          0  [0.0, 0.0, 0.0, 0.0, 0.0, 0.0, 0.0, 0.0, 0.0, ...\n",
              "2          0  [0.0, 0.0, 0.0, 0.0, 0.0, 0.0, 0.0, 0.0, 0.0, ...\n",
              "3          0  [0.0, 0.0, 0.0, 0.0, 0.0, 0.0, 0.0, 0.0, 0.0, ...\n",
              "4          0  [0.0, 0.0, 0.0, 0.0, 0.0, 0.0, 0.0, 0.0, 0.0, ...\n",
              "...      ...                                                ...\n",
              "1384     179  [0.0, 0.0, 0.0, 0.0, 0.0, 0.0, 0.0, 0.0, 0.0, ...\n",
              "1385     179  [0.0, 0.0, 0.0, 0.0, 0.0, 0.0, 0.0, 0.0, 0.0, ...\n",
              "1386     179  [0.0, 0.0, 0.0, 0.0, 0.0, 0.0, 0.0, 0.0, 0.0, ...\n",
              "1387     179  [0.0, 0.0, 0.0, 0.0, 0.0, 0.0, 0.0, 0.0, 0.0, ...\n",
              "1388     179  [0.0, 0.0, 0.0, 0.0, 0.0, 0.0, 0.0, 0.0, 0.0, ...\n",
              "\n",
              "[1389 rows x 2 columns]"
            ],
            "text/html": [
              "\n",
              "  <div id=\"df-ee9427c0-6b52-4f83-9c0c-edbe3ddba7b7\">\n",
              "    <div class=\"colab-df-container\">\n",
              "      <div>\n",
              "<style scoped>\n",
              "    .dataframe tbody tr th:only-of-type {\n",
              "        vertical-align: middle;\n",
              "    }\n",
              "\n",
              "    .dataframe tbody tr th {\n",
              "        vertical-align: top;\n",
              "    }\n",
              "\n",
              "    .dataframe thead th {\n",
              "        text-align: right;\n",
              "    }\n",
              "</style>\n",
              "<table border=\"1\" class=\"dataframe\">\n",
              "  <thead>\n",
              "    <tr style=\"text-align: right;\">\n",
              "      <th></th>\n",
              "      <th>intent</th>\n",
              "      <th>utterance</th>\n",
              "    </tr>\n",
              "  </thead>\n",
              "  <tbody>\n",
              "    <tr>\n",
              "      <th>0</th>\n",
              "      <td>0</td>\n",
              "      <td>[0.0, 0.0, 0.0, 0.0, 0.0, 0.0, 0.0, 0.0, 0.0, ...</td>\n",
              "    </tr>\n",
              "    <tr>\n",
              "      <th>1</th>\n",
              "      <td>0</td>\n",
              "      <td>[0.0, 0.0, 0.0, 0.0, 0.0, 0.0, 0.0, 0.0, 0.0, ...</td>\n",
              "    </tr>\n",
              "    <tr>\n",
              "      <th>2</th>\n",
              "      <td>0</td>\n",
              "      <td>[0.0, 0.0, 0.0, 0.0, 0.0, 0.0, 0.0, 0.0, 0.0, ...</td>\n",
              "    </tr>\n",
              "    <tr>\n",
              "      <th>3</th>\n",
              "      <td>0</td>\n",
              "      <td>[0.0, 0.0, 0.0, 0.0, 0.0, 0.0, 0.0, 0.0, 0.0, ...</td>\n",
              "    </tr>\n",
              "    <tr>\n",
              "      <th>4</th>\n",
              "      <td>0</td>\n",
              "      <td>[0.0, 0.0, 0.0, 0.0, 0.0, 0.0, 0.0, 0.0, 0.0, ...</td>\n",
              "    </tr>\n",
              "    <tr>\n",
              "      <th>...</th>\n",
              "      <td>...</td>\n",
              "      <td>...</td>\n",
              "    </tr>\n",
              "    <tr>\n",
              "      <th>1384</th>\n",
              "      <td>179</td>\n",
              "      <td>[0.0, 0.0, 0.0, 0.0, 0.0, 0.0, 0.0, 0.0, 0.0, ...</td>\n",
              "    </tr>\n",
              "    <tr>\n",
              "      <th>1385</th>\n",
              "      <td>179</td>\n",
              "      <td>[0.0, 0.0, 0.0, 0.0, 0.0, 0.0, 0.0, 0.0, 0.0, ...</td>\n",
              "    </tr>\n",
              "    <tr>\n",
              "      <th>1386</th>\n",
              "      <td>179</td>\n",
              "      <td>[0.0, 0.0, 0.0, 0.0, 0.0, 0.0, 0.0, 0.0, 0.0, ...</td>\n",
              "    </tr>\n",
              "    <tr>\n",
              "      <th>1387</th>\n",
              "      <td>179</td>\n",
              "      <td>[0.0, 0.0, 0.0, 0.0, 0.0, 0.0, 0.0, 0.0, 0.0, ...</td>\n",
              "    </tr>\n",
              "    <tr>\n",
              "      <th>1388</th>\n",
              "      <td>179</td>\n",
              "      <td>[0.0, 0.0, 0.0, 0.0, 0.0, 0.0, 0.0, 0.0, 0.0, ...</td>\n",
              "    </tr>\n",
              "  </tbody>\n",
              "</table>\n",
              "<p>1389 rows × 2 columns</p>\n",
              "</div>\n",
              "      <button class=\"colab-df-convert\" onclick=\"convertToInteractive('df-ee9427c0-6b52-4f83-9c0c-edbe3ddba7b7')\"\n",
              "              title=\"Convert this dataframe to an interactive table.\"\n",
              "              style=\"display:none;\">\n",
              "        \n",
              "  <svg xmlns=\"http://www.w3.org/2000/svg\" height=\"24px\"viewBox=\"0 0 24 24\"\n",
              "       width=\"24px\">\n",
              "    <path d=\"M0 0h24v24H0V0z\" fill=\"none\"/>\n",
              "    <path d=\"M18.56 5.44l.94 2.06.94-2.06 2.06-.94-2.06-.94-.94-2.06-.94 2.06-2.06.94zm-11 1L8.5 8.5l.94-2.06 2.06-.94-2.06-.94L8.5 2.5l-.94 2.06-2.06.94zm10 10l.94 2.06.94-2.06 2.06-.94-2.06-.94-.94-2.06-.94 2.06-2.06.94z\"/><path d=\"M17.41 7.96l-1.37-1.37c-.4-.4-.92-.59-1.43-.59-.52 0-1.04.2-1.43.59L10.3 9.45l-7.72 7.72c-.78.78-.78 2.05 0 2.83L4 21.41c.39.39.9.59 1.41.59.51 0 1.02-.2 1.41-.59l7.78-7.78 2.81-2.81c.8-.78.8-2.07 0-2.86zM5.41 20L4 18.59l7.72-7.72 1.47 1.35L5.41 20z\"/>\n",
              "  </svg>\n",
              "      </button>\n",
              "      \n",
              "  <style>\n",
              "    .colab-df-container {\n",
              "      display:flex;\n",
              "      flex-wrap:wrap;\n",
              "      gap: 12px;\n",
              "    }\n",
              "\n",
              "    .colab-df-convert {\n",
              "      background-color: #E8F0FE;\n",
              "      border: none;\n",
              "      border-radius: 50%;\n",
              "      cursor: pointer;\n",
              "      display: none;\n",
              "      fill: #1967D2;\n",
              "      height: 32px;\n",
              "      padding: 0 0 0 0;\n",
              "      width: 32px;\n",
              "    }\n",
              "\n",
              "    .colab-df-convert:hover {\n",
              "      background-color: #E2EBFA;\n",
              "      box-shadow: 0px 1px 2px rgba(60, 64, 67, 0.3), 0px 1px 3px 1px rgba(60, 64, 67, 0.15);\n",
              "      fill: #174EA6;\n",
              "    }\n",
              "\n",
              "    [theme=dark] .colab-df-convert {\n",
              "      background-color: #3B4455;\n",
              "      fill: #D2E3FC;\n",
              "    }\n",
              "\n",
              "    [theme=dark] .colab-df-convert:hover {\n",
              "      background-color: #434B5C;\n",
              "      box-shadow: 0px 1px 3px 1px rgba(0, 0, 0, 0.15);\n",
              "      filter: drop-shadow(0px 1px 2px rgba(0, 0, 0, 0.3));\n",
              "      fill: #FFFFFF;\n",
              "    }\n",
              "  </style>\n",
              "\n",
              "      <script>\n",
              "        const buttonEl =\n",
              "          document.querySelector('#df-ee9427c0-6b52-4f83-9c0c-edbe3ddba7b7 button.colab-df-convert');\n",
              "        buttonEl.style.display =\n",
              "          google.colab.kernel.accessAllowed ? 'block' : 'none';\n",
              "\n",
              "        async function convertToInteractive(key) {\n",
              "          const element = document.querySelector('#df-ee9427c0-6b52-4f83-9c0c-edbe3ddba7b7');\n",
              "          const dataTable =\n",
              "            await google.colab.kernel.invokeFunction('convertToInteractive',\n",
              "                                                     [key], {});\n",
              "          if (!dataTable) return;\n",
              "\n",
              "          const docLinkHtml = 'Like what you see? Visit the ' +\n",
              "            '<a target=\"_blank\" href=https://colab.research.google.com/notebooks/data_table.ipynb>data table notebook</a>'\n",
              "            + ' to learn more about interactive tables.';\n",
              "          element.innerHTML = '';\n",
              "          dataTable['output_type'] = 'display_data';\n",
              "          await google.colab.output.renderOutput(dataTable, element);\n",
              "          const docLink = document.createElement('div');\n",
              "          docLink.innerHTML = docLinkHtml;\n",
              "          element.appendChild(docLink);\n",
              "        }\n",
              "      </script>\n",
              "    </div>\n",
              "  </div>\n",
              "  "
            ]
          },
          "metadata": {},
          "execution_count": 60
        }
      ]
    },
    {
      "cell_type": "code",
      "source": [
        "def countX(list, X):\n",
        "  return list.count(X)"
      ],
      "metadata": {
        "id": "MS2jL9ormM1U"
      },
      "execution_count": 47,
      "outputs": []
    },
    {
      "cell_type": "code",
      "source": [
        "from scipy.linalg.basic import levinson\n",
        "def _train_test_split(train_size):\n",
        "  Xy_train = pd.DataFrame()\n",
        "  Xy_test = pd.DataFrame()\n",
        "  list_utt = list(sorted_df['utterance'])\n",
        "  list_intent = list(sorted_df['intent'])\n",
        "\n",
        "  for intent in list_intent:\n",
        "    len = countX(list_intent, intent)\n",
        "    # print('len',len)\n",
        "    tmp_intent = intent\n",
        "    index = list_intent.index(intent)\n",
        "\n",
        "    for i in range(0, int(len*train_size)):\n",
        "      if (tmp_intent == list_intent[i+index]):\n",
        "        # print(tmp_intent)\n",
        "        tmp_df = pd.DataFrame([[list_intent[i+index], list_utt[i+index]]], columns = ['intent', 'utterance'])\n",
        "        Xy_train = Xy_train.append(tmp_df, ignore_index = True)\n",
        "        Xy_test = Xy_test.append(pd.DataFrame([[list_intent[index+len-1-i], list_utt[index+len-1-i]]], columns = ['intent', 'utterance']), ignore_index = True)\n",
        "      else:\n",
        "        break\n",
        "\n",
        "  X_train = list(Xy_train['utterance'])\n",
        "  y_train = list(Xy_train['intent'])\n",
        "  X_test = list(Xy_test['utterance'])\n",
        "  y_test = list(Xy_test['intent'])\n",
        "  # X_test = sorted_df.drop(X_train)\n",
        "  return X_train, y_train, X_test, y_test"
      ],
      "metadata": {
        "id": "0JwMMqwtGxVy"
      },
      "execution_count": 181,
      "outputs": []
    },
    {
      "cell_type": "code",
      "source": [
        "# _train_test_split(0.8)"
      ],
      "metadata": {
        "id": "-llG2sPSJQ8v"
      },
      "execution_count": 179,
      "outputs": []
    },
    {
      "cell_type": "code",
      "source": [
        "from sklearn.naive_bayes import GaussianNB\n",
        "from sklearn.model_selection import train_test_split\n",
        "from sklearn.model_selection import KFold\n",
        "from sklearn.model_selection import cross_val_score\n",
        "from sklearn import metrics\n",
        "\n",
        "# X_train, X_test, y_train, y_test = train_test_split(list(sorted_df['utterance']), list(sorted_df['intent']), train_size=0.8, random_state = 40)\n",
        "X_train, y_train, X_test, y_test = _train_test_split(train_size = 0.8)"
      ],
      "metadata": {
        "id": "_yLRLGUhsruU"
      },
      "execution_count": 182,
      "outputs": []
    },
    {
      "cell_type": "code",
      "source": [
        "gnb = GaussianNB()\n",
        "gnb.fit(X_train, y_train)\n",
        "y_pred = gnb.predict(X_test)\n",
        "\n",
        "print(\"Gaussian Naive Bayes model accuracy:\", metrics.accuracy_score(y_test, y_pred))"
      ],
      "metadata": {
        "colab": {
          "base_uri": "https://localhost:8080/"
        },
        "id": "OhtelS1m5VD7",
        "outputId": "8066a5ec-c9f8-4639-e56a-99792b8496c6"
      },
      "execution_count": 183,
      "outputs": [
        {
          "output_type": "stream",
          "name": "stdout",
          "text": [
            "Gaussian Naive Bayes model accuracy: 0.37955410549211527\n"
          ]
        }
      ]
    },
    {
      "cell_type": "code",
      "source": [
        "from sklearn.ensemble import RandomForestClassifier\n",
        "\n",
        "clf=RandomForestClassifier()\n",
        "clf.fit(X_train, y_train);\n",
        "prediction = clf.predict(X_test);\n",
        "print(metrics.accuracy_score(y_test, prediction))"
      ],
      "metadata": {
        "colab": {
          "base_uri": "https://localhost:8080/"
        },
        "id": "cbiR7YTA2qls",
        "outputId": "325bc33e-ad60-41a3-9069-1c5f22b9240c"
      },
      "execution_count": 184,
      "outputs": [
        {
          "output_type": "stream",
          "name": "stdout",
          "text": [
            "0.9616639477977161\n"
          ]
        }
      ]
    },
    {
      "cell_type": "code",
      "source": [
        "from sklearn.svm import SVC\n",
        "\n",
        "clfsvc = SVC(kernel='rbf', gamma=0.01, C=1000)\n",
        "clfsvc.fit(X_train, y_train)\n",
        "\n",
        "prediction = clfsvc.predict(X_test)\n",
        "print(metrics.accuracy_score(y_test, prediction))"
      ],
      "metadata": {
        "colab": {
          "base_uri": "https://localhost:8080/"
        },
        "id": "N5uhXN-r3lHk",
        "outputId": "744090f9-e50e-425b-a7bd-c30cb21ef167"
      },
      "execution_count": 185,
      "outputs": [
        {
          "output_type": "stream",
          "name": "stdout",
          "text": [
            "0.7091897770527461\n"
          ]
        }
      ]
    },
    {
      "cell_type": "code",
      "source": [
        "from sklearn.tree import DecisionTreeClassifier\n",
        "\n"
      ],
      "metadata": {
        "id": "0ddjj3g13LZ0"
      },
      "execution_count": 186,
      "outputs": []
    }
  ]
}