{
 "cells": [
  {
   "cell_type": "code",
   "execution_count": 1,
   "metadata": {},
   "outputs": [
    {
     "name": "stderr",
     "output_type": "stream",
     "text": [
      "[nltk_data] Downloading package brown to\n",
      "[nltk_data]     C:\\Users\\tuanna63\\AppData\\Roaming\\nltk_data...\n",
      "[nltk_data]   Unzipping corpora\\brown.zip.\n"
     ]
    }
   ],
   "source": [
    "import nltk\n",
    "nltk.download(\"brown\")\n",
    "import gensim\n",
    "# Load the binary model"
   ]
  },
  {
   "cell_type": "code",
   "execution_count": 2,
   "metadata": {},
   "outputs": [
    {
     "name": "stdout",
     "output_type": "stream",
     "text": [
      "56057\n"
     ]
    }
   ],
   "source": [
    "import gensim\n",
    "# Load the binary model\n",
    "model = gensim.models.KeyedVectors.load_word2vec_format(\"models/GoogleNews-vectors-negative300.bin.gz\", binary = True)\n",
    "\n",
    "# Only output word that appear in the Brown corpus\n",
    "from nltk.corpus import brown\n",
    "words = set(brown.words())\n",
    "print(len(words))\n",
    "\n",
    "# Output presented word to a temporary file\n",
    "out_file = \"models/pruned.word2vec.txt\"\n",
    "with open(out_file,\"w\") as f:\n",
    "    word_presented = words.intersection(model.index_to_key)\n",
    "    f.write(\"{} {}n\".format(len(word_presented),len(model[\"word\"])))\n",
    "\n",
    "    for word in word_presented:\n",
    "        f.write(\"{} {}n\".format(word, \" \".join(str(value) for value in model[word])))"
   ]
  },
  {
   "cell_type": "code",
   "execution_count": 3,
   "metadata": {},
   "outputs": [
    {
     "name": "stdout",
     "output_type": "stream",
     "text": [
      "235892\n"
     ]
    }
   ],
   "source": [
    "from nltk.corpus import words\n",
    "words = set(words.words())\n",
    "print(len(words))\n",
    "\n",
    "# Output presented word to a temporary file\n",
    "out_file = \"models/english.word2vec.txt\"\n",
    "with open(out_file,\"w\") as f:\n",
    "    word_presented = words.intersection(model.index_to_key)\n",
    "    f.write(\"{} {}n\".format(len(word_presented),len(model[\"word\"])))\n",
    "\n",
    "    for word in word_presented:\n",
    "        f.write(\"{} {}n\".format(word, \" \".join(str(value) for value in model[word])))"
   ]
  }
 ],
 "metadata": {
  "kernelspec": {
   "display_name": "base",
   "language": "python",
   "name": "python3"
  },
  "language_info": {
   "codemirror_mode": {
    "name": "ipython",
    "version": 3
   },
   "file_extension": ".py",
   "mimetype": "text/x-python",
   "name": "python",
   "nbconvert_exporter": "python",
   "pygments_lexer": "ipython3",
   "version": "3.9.13"
  },
  "orig_nbformat": 4,
  "vscode": {
   "interpreter": {
    "hash": "42baff8518b50338084708a96b14cc873b9324e5a615746f6aa55d093668d6d7"
   }
  }
 },
 "nbformat": 4,
 "nbformat_minor": 2
}
