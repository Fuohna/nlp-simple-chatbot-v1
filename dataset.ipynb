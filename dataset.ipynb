{
  "nbformat": 4,
  "nbformat_minor": 0,
  "metadata": {
    "colab": {
      "provenance": [],
      "mount_file_id": "1YUzA3pcZdDoer7OlNTyku6Su29AjshWk",
      "authorship_tag": "ABX9TyPNq520f6qrNxWzQryAQlb5",
      "include_colab_link": true
    },
    "kernelspec": {
      "name": "python3",
      "display_name": "Python 3"
    },
    "language_info": {
      "name": "python"
    }
  },
  "cells": [
    {
      "cell_type": "markdown",
      "metadata": {
        "id": "view-in-github",
        "colab_type": "text"
      },
      "source": [
        "<a href=\"https://colab.research.google.com/github/Fuohna/nlp-simple-chatbot-v1/blob/main/dataset.ipynb\" target=\"_parent\"><img src=\"https://colab.research.google.com/assets/colab-badge.svg\" alt=\"Open In Colab\"/></a>"
      ]
    },
    {
      "cell_type": "code",
      "source": [
        "import pandas as pd"
      ],
      "metadata": {
        "id": "yGXLXDbKDEuu"
      },
      "execution_count": 1,
      "outputs": []
    },
    {
      "cell_type": "markdown",
      "source": [
        "# Training dataset"
      ],
      "metadata": {
        "id": "t0qBAJQ8oHwl"
      }
    },
    {
      "cell_type": "code",
      "execution_count": 2,
      "metadata": {
        "id": "ZMDsGBTYCUHJ"
      },
      "outputs": [],
      "source": [
        "leyzer_dev = pd.read_csv('https://raw.githubusercontent.com/cartesinus/leyzer/master/corpora/0.1.0/leyzer-dev-en-US-0.1.0.tsv', sep='\\t')\n",
        "leyzer_test = pd.read_csv(\"https://raw.githubusercontent.com/cartesinus/leyzer/master/corpora/0.1.0/leyzer-test-en-US-0.1.0.tsv\", sep=\"\\t\")\n",
        "# kaggle_ird_df = pd.DataFrame(pd.read_json(\"/content/drive/MyDrive/Colab Notebooks/NLP-Chatbot/Intent.json\"))\n",
        "leyzer_dev_df = pd.DataFrame(leyzer_dev)\n",
        "leyzer_test_df = pd.DataFrame(leyzer_test)"
      ]
    },
    {
      "cell_type": "code",
      "source": [
        "train_df = pd.concat([leyzer_dev_df, leyzer_test_df], ignore_index = True)\n",
        "train_df.drop([\"domain\", \"bio\"], axis = 1, inplace = True)"
      ],
      "metadata": {
        "id": "ZSqJ3kkqK1LM"
      },
      "execution_count": 3,
      "outputs": []
    },
    {
      "cell_type": "code",
      "source": [
        "import json"
      ],
      "metadata": {
        "id": "nbhbAbR3NkLb"
      },
      "execution_count": 4,
      "outputs": []
    },
    {
      "cell_type": "code",
      "source": [
        "with open('/content/drive/MyDrive/Colab Notebooks/NLP-Chatbot/Intent.json', 'r') as openfile:\n",
        " \n",
        "    json_object = json.load(openfile)\n",
        " \n",
        "# print(json_object)"
      ],
      "metadata": {
        "id": "riP0p-Z3Qvzz"
      },
      "execution_count": 10,
      "outputs": []
    },
    {
      "cell_type": "code",
      "source": [
        "intents = (json_object.get('intents'))\n",
        "# print(intents)"
      ],
      "metadata": {
        "id": "vYgF3wDvY1oY"
      },
      "execution_count": 11,
      "outputs": []
    },
    {
      "cell_type": "code",
      "source": [
        "kaggle_ird_df = pd.DataFrame(columns=[\"intent\", \"utterance\"])\n",
        "for intent in intents:\n",
        "  # print(intent.get(\"intent\"))\n",
        "  # print(intent.get(\"text\"))\n",
        "  # print(type(intent.get(\"text\")))\n",
        "  for text in intent.get(\"text\"):\n",
        "    df2 = pd.DataFrame([[intent.get(\"intent\"),text]], columns = [\"intent\", \"utterance\"])\n",
        "    kaggle_ird_df = kaggle_ird_df.append(df2, ignore_index = True)\n",
        "\n",
        "# kaggle_ird_df"
      ],
      "metadata": {
        "id": "vsChl1fMccR3"
      },
      "execution_count": 7,
      "outputs": []
    },
    {
      "cell_type": "code",
      "source": [
        "train_df = pd.concat([train_df, kaggle_ird_df], ignore_index = True)\n",
        "train_df\n",
        "train_df.to_csv(\"/content/drive/MyDrive/Colab Notebooks/NLP-Chatbot/train_dataset.csv\", index = False)"
      ],
      "metadata": {
        "id": "P5J8rR5kmShH"
      },
      "execution_count": 8,
      "outputs": []
    },
    {
      "cell_type": "code",
      "source": [
        "train_df"
      ],
      "metadata": {
        "colab": {
          "base_uri": "https://localhost:8080/",
          "height": 424
        },
        "id": "25o4lk0mnM8t",
        "outputId": "c4655e4d-3280-4d0b-e747-53805ec1e9fe"
      },
      "execution_count": 9,
      "outputs": [
        {
          "output_type": "execute_result",
          "data": {
            "text/plain": [
              "                 intent                                          utterance\n",
              "0               TurnOff                    switch the air conditioning off\n",
              "1               TurnOff                                    turn the ac off\n",
              "2                TurnOn                               switch on the aircon\n",
              "3                TurnOn                                 turn the aircon on\n",
              "4     ChangeTemperature  change the minimum and maximum temperatures on...\n",
              "...                 ...                                                ...\n",
              "1527          SelfAware                 Can you prove you have a conscious\n",
              "1528          SelfAware            Can you prove you are self-aware please\n",
              "1529          SelfAware            Can you prove you are self aware please\n",
              "1530          SelfAware          Can you prove you have a conscious please\n",
              "1531          SelfAware                         prove you have a conscious\n",
              "\n",
              "[1532 rows x 2 columns]"
            ],
            "text/html": [
              "\n",
              "  <div id=\"df-091bf31b-2daf-4bf0-a0b2-058d710002c7\">\n",
              "    <div class=\"colab-df-container\">\n",
              "      <div>\n",
              "<style scoped>\n",
              "    .dataframe tbody tr th:only-of-type {\n",
              "        vertical-align: middle;\n",
              "    }\n",
              "\n",
              "    .dataframe tbody tr th {\n",
              "        vertical-align: top;\n",
              "    }\n",
              "\n",
              "    .dataframe thead th {\n",
              "        text-align: right;\n",
              "    }\n",
              "</style>\n",
              "<table border=\"1\" class=\"dataframe\">\n",
              "  <thead>\n",
              "    <tr style=\"text-align: right;\">\n",
              "      <th></th>\n",
              "      <th>intent</th>\n",
              "      <th>utterance</th>\n",
              "    </tr>\n",
              "  </thead>\n",
              "  <tbody>\n",
              "    <tr>\n",
              "      <th>0</th>\n",
              "      <td>TurnOff</td>\n",
              "      <td>switch the air conditioning off</td>\n",
              "    </tr>\n",
              "    <tr>\n",
              "      <th>1</th>\n",
              "      <td>TurnOff</td>\n",
              "      <td>turn the ac off</td>\n",
              "    </tr>\n",
              "    <tr>\n",
              "      <th>2</th>\n",
              "      <td>TurnOn</td>\n",
              "      <td>switch on the aircon</td>\n",
              "    </tr>\n",
              "    <tr>\n",
              "      <th>3</th>\n",
              "      <td>TurnOn</td>\n",
              "      <td>turn the aircon on</td>\n",
              "    </tr>\n",
              "    <tr>\n",
              "      <th>4</th>\n",
              "      <td>ChangeTemperature</td>\n",
              "      <td>change the minimum and maximum temperatures on...</td>\n",
              "    </tr>\n",
              "    <tr>\n",
              "      <th>...</th>\n",
              "      <td>...</td>\n",
              "      <td>...</td>\n",
              "    </tr>\n",
              "    <tr>\n",
              "      <th>1527</th>\n",
              "      <td>SelfAware</td>\n",
              "      <td>Can you prove you have a conscious</td>\n",
              "    </tr>\n",
              "    <tr>\n",
              "      <th>1528</th>\n",
              "      <td>SelfAware</td>\n",
              "      <td>Can you prove you are self-aware please</td>\n",
              "    </tr>\n",
              "    <tr>\n",
              "      <th>1529</th>\n",
              "      <td>SelfAware</td>\n",
              "      <td>Can you prove you are self aware please</td>\n",
              "    </tr>\n",
              "    <tr>\n",
              "      <th>1530</th>\n",
              "      <td>SelfAware</td>\n",
              "      <td>Can you prove you have a conscious please</td>\n",
              "    </tr>\n",
              "    <tr>\n",
              "      <th>1531</th>\n",
              "      <td>SelfAware</td>\n",
              "      <td>prove you have a conscious</td>\n",
              "    </tr>\n",
              "  </tbody>\n",
              "</table>\n",
              "<p>1532 rows × 2 columns</p>\n",
              "</div>\n",
              "      <button class=\"colab-df-convert\" onclick=\"convertToInteractive('df-091bf31b-2daf-4bf0-a0b2-058d710002c7')\"\n",
              "              title=\"Convert this dataframe to an interactive table.\"\n",
              "              style=\"display:none;\">\n",
              "        \n",
              "  <svg xmlns=\"http://www.w3.org/2000/svg\" height=\"24px\"viewBox=\"0 0 24 24\"\n",
              "       width=\"24px\">\n",
              "    <path d=\"M0 0h24v24H0V0z\" fill=\"none\"/>\n",
              "    <path d=\"M18.56 5.44l.94 2.06.94-2.06 2.06-.94-2.06-.94-.94-2.06-.94 2.06-2.06.94zm-11 1L8.5 8.5l.94-2.06 2.06-.94-2.06-.94L8.5 2.5l-.94 2.06-2.06.94zm10 10l.94 2.06.94-2.06 2.06-.94-2.06-.94-.94-2.06-.94 2.06-2.06.94z\"/><path d=\"M17.41 7.96l-1.37-1.37c-.4-.4-.92-.59-1.43-.59-.52 0-1.04.2-1.43.59L10.3 9.45l-7.72 7.72c-.78.78-.78 2.05 0 2.83L4 21.41c.39.39.9.59 1.41.59.51 0 1.02-.2 1.41-.59l7.78-7.78 2.81-2.81c.8-.78.8-2.07 0-2.86zM5.41 20L4 18.59l7.72-7.72 1.47 1.35L5.41 20z\"/>\n",
              "  </svg>\n",
              "      </button>\n",
              "      \n",
              "  <style>\n",
              "    .colab-df-container {\n",
              "      display:flex;\n",
              "      flex-wrap:wrap;\n",
              "      gap: 12px;\n",
              "    }\n",
              "\n",
              "    .colab-df-convert {\n",
              "      background-color: #E8F0FE;\n",
              "      border: none;\n",
              "      border-radius: 50%;\n",
              "      cursor: pointer;\n",
              "      display: none;\n",
              "      fill: #1967D2;\n",
              "      height: 32px;\n",
              "      padding: 0 0 0 0;\n",
              "      width: 32px;\n",
              "    }\n",
              "\n",
              "    .colab-df-convert:hover {\n",
              "      background-color: #E2EBFA;\n",
              "      box-shadow: 0px 1px 2px rgba(60, 64, 67, 0.3), 0px 1px 3px 1px rgba(60, 64, 67, 0.15);\n",
              "      fill: #174EA6;\n",
              "    }\n",
              "\n",
              "    [theme=dark] .colab-df-convert {\n",
              "      background-color: #3B4455;\n",
              "      fill: #D2E3FC;\n",
              "    }\n",
              "\n",
              "    [theme=dark] .colab-df-convert:hover {\n",
              "      background-color: #434B5C;\n",
              "      box-shadow: 0px 1px 3px 1px rgba(0, 0, 0, 0.15);\n",
              "      filter: drop-shadow(0px 1px 2px rgba(0, 0, 0, 0.3));\n",
              "      fill: #FFFFFF;\n",
              "    }\n",
              "  </style>\n",
              "\n",
              "      <script>\n",
              "        const buttonEl =\n",
              "          document.querySelector('#df-091bf31b-2daf-4bf0-a0b2-058d710002c7 button.colab-df-convert');\n",
              "        buttonEl.style.display =\n",
              "          google.colab.kernel.accessAllowed ? 'block' : 'none';\n",
              "\n",
              "        async function convertToInteractive(key) {\n",
              "          const element = document.querySelector('#df-091bf31b-2daf-4bf0-a0b2-058d710002c7');\n",
              "          const dataTable =\n",
              "            await google.colab.kernel.invokeFunction('convertToInteractive',\n",
              "                                                     [key], {});\n",
              "          if (!dataTable) return;\n",
              "\n",
              "          const docLinkHtml = 'Like what you see? Visit the ' +\n",
              "            '<a target=\"_blank\" href=https://colab.research.google.com/notebooks/data_table.ipynb>data table notebook</a>'\n",
              "            + ' to learn more about interactive tables.';\n",
              "          element.innerHTML = '';\n",
              "          dataTable['output_type'] = 'display_data';\n",
              "          await google.colab.output.renderOutput(dataTable, element);\n",
              "          const docLink = document.createElement('div');\n",
              "          docLink.innerHTML = docLinkHtml;\n",
              "          element.appendChild(docLink);\n",
              "        }\n",
              "      </script>\n",
              "    </div>\n",
              "  </div>\n",
              "  "
            ]
          },
          "metadata": {},
          "execution_count": 9
        }
      ]
    },
    {
      "cell_type": "markdown",
      "source": [
        "# Testing dataset"
      ],
      "metadata": {
        "id": "jL8JybETobgs"
      }
    },
    {
      "cell_type": "code",
      "source": [],
      "metadata": {
        "id": "hEA2O1oQok4E"
      },
      "execution_count": null,
      "outputs": []
    }
  ]
}